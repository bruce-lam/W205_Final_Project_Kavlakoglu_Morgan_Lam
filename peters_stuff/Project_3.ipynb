{
 "cells": [
  {
   "cell_type": "markdown",
   "metadata": {},
   "source": [
    "# Project 3 Report: Peter Morgan, Bruce Lam, Eda Kavlakoglu"
   ]
  },
  {
   "cell_type": "code",
   "execution_count": 1,
   "metadata": {
    "collapsed": true
   },
   "outputs": [],
   "source": [
    "# Importing Modules\n",
    "import json\n",
    "from pyspark.sql import Row\n",
    "from pyspark.sql.functions import udf, from_json\n",
    "from pyspark.sql.types import StructType, StructField, StringType"
   ]
  },
  {
   "cell_type": "markdown",
   "metadata": {},
   "source": [
    "## Executive Summary\n",
    "\n",
    "My summary blah blah blah"
   ]
  },
  {
   "cell_type": "markdown",
   "metadata": {},
   "source": [
    "## Repository Description\n",
    "bulleted list describing all files that exist in repository"
   ]
  },
  {
   "cell_type": "markdown",
   "metadata": {},
   "source": [
    "## Detailed Pipeline Breakdown\n",
    "\n",
    "### Set Up\n",
    "Below we will describe in detail how the pipeline is spun up. First, we need to change into the w205 directory and clone the project repository. This is done using the commands below.\n",
    "\n",
    "```console\n",
    "cd ~/w205\n",
    "git clone https://github.com/mids-w205-martin-mims/project-3-superpeter55.git\n",
    "```\n",
    "\n",
    "Next, we must move into our new directory and create a new branch \"assignemnt\" and switch over to that branch. This is done using the commands below. We also include the git status command and its output to ensure that we are on the assignment branch as expected. As you can see, we successfully created and switched to the assignment branch\n",
    "\n",
    "```console\n",
    "cd project-3-superpeter55\n",
    "git branch assignment\n",
    "git checkout assignment\n",
    "git status\n",
    "```\n",
    "```console\n",
    "On branch assignment\n",
    "```\n",
    "\n",
    "The next step is going to be copying our docker-compose file from the week 13 content so we can run our docker images. This is done using the command below. In this case, the period \".\" at the end of the command pastes the copied file in the current directory. Once this is copied in, there are a few changes we have to make to ensure our docker containers run properly. First, we must comment out the two lines in the cloudera service that read \"ports:\" and \"8888:8888\". These lines are already commented out in the spark service in the docker-compose file and must be uncommented. This insures that we can run a jupyter notebook with pyspark in port 8888.\n",
    "\n",
    "```console\n",
    "cp ~/w205/course-content/13-Understanding-Data/docker-compose.yml .\n",
    "```\n",
    "\n",
    "Now that we have copied in the docker-compose file and made the necessary modifications, we will spin up our cluster using the command below. The -d at the end runs the containers in the background and we are able to continue to use our console. Next we will use docker-compose ps to make sure all the containers are up. The command lists all the containers and some basic information on them. Since all the containers say they are in the state \"up\", we will proceed.\n",
    "\n",
    "```console\n",
    "docker-compose up -d\n",
    "```\n",
    "\n",
    "Now that our cluster is running, we will create our kafka topic. We will use the exec command on kafka to execute a single kafka command. In this case we run the kafka-topics command with the --create option to create a topic. The --topic option is used to name the topic \"events\". I chose to name this topic events because we are collecting game event data for this project. We use the --partitions option to specify that we only need one partition. The --if-not-exists option is to prevent two topics with the same name being created. The --zookeeper option is specifying which port we would like to connect our topic to. To ensure this command is successful, the console will output \"Created topic events\".\n",
    "\n",
    "```console\n",
    "docker-compose exec kafka kafka-topics --create --topic events --partitions 1 --replication-factor 1 --if-not-exists --zookeeper zookeeper:32181\n",
    "```\n",
    "\n",
    "Moving on we will set up the game_api.py file which will define what type of events we can perform. To start, we will copy the game_api.py file from week 12 and then make some modifications. This is done using the command below.\n",
    "\n",
    "```console\n",
    "cp ~/w205/course-content/12-Querying-Data-II/game_api.py .\n",
    "```\n",
    "\n",
    "The game_api.py file from week 12 does not have functions for buy a sword or join guild so we will need to create them. The functions added to the game_api.py file are shown below. These functions are very similar to the function that already exists in the game_api.py file named purchase_a_sword(). The first line of each function specifies the route that will need to be specified to trigger each function. In this case, we are specifying /buy_a_sword to trigger the buy_a_sword function, and /join_guild to trigger the join_guild function. The first step of each function is to define a dictionary that has the event metadata. In this case, we specify that the event type is buy_sword or join_guild event and the sword_type is sharp and the guild_name is morgan because I started my own guild. The log_to_kafka function sends the event and event metadata to the kafka topic \"events\". Finally the return statement returns a nice message to the user that tells them what happened. \n",
    "\n",
    "```python\n",
    "@app.route(\"/buy_a_sword\")\n",
    "def buy_a_sword():\n",
    "    buy_sword_event = {'event_type': 'buy_sword',\n",
    "                       'sword_type': 'sharp'}\n",
    "    log_to_kafka('events', buy_sword_event)\n",
    "    return \"Sword Bought!\\n\"\n",
    "\n",
    "@app.route(\"/join_guild\")\n",
    "def join_guild():\n",
    "    join_guild_event = {'event_type': 'join_guild',\n",
    "                        'guild_name': 'morgan'}\n",
    "    log_to_kafka('events', join_guild_event)\n",
    "    return \"Joined Guild!\\n\"\n",
    "```\n",
    "\n",
    "Now that we have added these two functions to our game_api.py file, we can run our flask app through the game_api.py file. The code to run our flask app already exists in the game_api file so we just need to run the file and specify the host which in this case is 0.0.0.0. \n",
    "\n",
    "```console\n",
    "docker-compose exec mids env FLASK_APP=/w205/project-3-superpeter55/game_api.py flask run --host 0.0.0.0\n",
    "```\n",
    "\n",
    "Note that since the flask app is now running in the window. We will need to open a new terminal to perform commands. We do this and then switch into the proper directory using the commands below.\n",
    "\n",
    "```console\n",
    "cd w205\n",
    "cd project-3-superpeter55/\n",
    "```\n",
    "\n",
    "The next task we would like to perform is spinning up a jupyter notebook with pyspark. Before we actually spin up the notebook, we must create a symbolic link so that we can access our mounted w205 directory. This is done using the commands below. The first line uses docker-compose exec to open up a \n",
    "\n",
    "```console\n",
    "docker-compose exec spark bash\n",
    "ln -s /w205 w205\n",
    "exit \n",
    "```"
   ]
  },
  {
   "cell_type": "code",
   "execution_count": 2,
   "metadata": {},
   "outputs": [
    {
     "data": {
      "text/html": [
       "\n",
       "            <div>\n",
       "                <p><b>SparkSession - hive</b></p>\n",
       "                \n",
       "        <div>\n",
       "            <p><b>SparkContext</b></p>\n",
       "\n",
       "            <p><a href=\"http://172.18.0.6:4040\">Spark UI</a></p>\n",
       "\n",
       "            <dl>\n",
       "              <dt>Version</dt>\n",
       "                <dd><code>v2.2.0</code></dd>\n",
       "              <dt>Master</dt>\n",
       "                <dd><code>local[*]</code></dd>\n",
       "              <dt>AppName</dt>\n",
       "                <dd><code>PySparkShell</code></dd>\n",
       "            </dl>\n",
       "        </div>\n",
       "        \n",
       "            </div>\n",
       "        "
      ],
      "text/plain": [
       "<pyspark.sql.session.SparkSession at 0x7fa672735c50>"
      ]
     },
     "execution_count": 2,
     "metadata": {},
     "output_type": "execute_result"
    }
   ],
   "source": [
    "spark"
   ]
  },
  {
   "cell_type": "code",
   "execution_count": 3,
   "metadata": {},
   "outputs": [
    {
     "data": {
      "text/html": [
       "\n",
       "        <div>\n",
       "            <p><b>SparkContext</b></p>\n",
       "\n",
       "            <p><a href=\"http://172.18.0.6:4040\">Spark UI</a></p>\n",
       "\n",
       "            <dl>\n",
       "              <dt>Version</dt>\n",
       "                <dd><code>v2.2.0</code></dd>\n",
       "              <dt>Master</dt>\n",
       "                <dd><code>local[*]</code></dd>\n",
       "              <dt>AppName</dt>\n",
       "                <dd><code>PySparkShell</code></dd>\n",
       "            </dl>\n",
       "        </div>\n",
       "        "
      ],
      "text/plain": [
       "<SparkContext master=local[*] appName=PySparkShell>"
      ]
     },
     "execution_count": 3,
     "metadata": {},
     "output_type": "execute_result"
    }
   ],
   "source": [
    "sc"
   ]
  },
  {
   "cell_type": "markdown",
   "metadata": {},
   "source": [
    "## Batch Mode"
   ]
  },
  {
   "cell_type": "markdown",
   "metadata": {},
   "source": [
    "blah blah blah"
   ]
  },
  {
   "cell_type": "code",
   "execution_count": 10,
   "metadata": {
    "collapsed": true
   },
   "outputs": [],
   "source": [
    "@udf('boolean')\n",
    "def is_purchase(event_as_json):\n",
    "    event = json.loads(event_as_json)\n",
    "    if event['event_type'] == 'purchase_sword':\n",
    "        return True\n",
    "    return False"
   ]
  },
  {
   "cell_type": "code",
   "execution_count": 11,
   "metadata": {
    "collapsed": true
   },
   "outputs": [],
   "source": [
    "raw_events = spark \\\n",
    "        .read \\\n",
    "        .format(\"kafka\") \\\n",
    "        .option(\"kafka.bootstrap.servers\", \"kafka:29092\") \\\n",
    "        .option(\"subscribe\", \"events\") \\\n",
    "        .option(\"startingOffsets\", \"earliest\") \\\n",
    "        .option(\"endingOffsets\", \"latest\") \\\n",
    "        .load()"
   ]
  },
  {
   "cell_type": "code",
   "execution_count": 12,
   "metadata": {},
   "outputs": [
    {
     "name": "stdout",
     "output_type": "stream",
     "text": [
      "+----+--------------------+------+---------+------+--------------------+-------------+\n",
      "| key|               value| topic|partition|offset|           timestamp|timestampType|\n",
      "+----+--------------------+------+---------+------+--------------------+-------------+\n",
      "|null|[7B 22 48 6F 73 7...|events|        0|     0|2021-12-04 23:29:...|            0|\n",
      "|null|[7B 22 48 6F 73 7...|events|        0|     1|2021-12-04 23:29:...|            0|\n",
      "|null|[7B 22 48 6F 73 7...|events|        0|     2|2021-12-04 23:29:...|            0|\n",
      "|null|[7B 22 48 6F 73 7...|events|        0|     3|2021-12-04 23:29:...|            0|\n",
      "|null|[7B 22 48 6F 73 7...|events|        0|     4|2021-12-04 23:29:...|            0|\n",
      "|null|[7B 22 48 6F 73 7...|events|        0|     5|2021-12-04 23:29:...|            0|\n",
      "|null|[7B 22 48 6F 73 7...|events|        0|     6|2021-12-04 23:29:...|            0|\n",
      "|null|[7B 22 48 6F 73 7...|events|        0|     7|2021-12-04 23:29:...|            0|\n",
      "|null|[7B 22 48 6F 73 7...|events|        0|     8|2021-12-04 23:29:...|            0|\n",
      "|null|[7B 22 48 6F 73 7...|events|        0|     9|2021-12-04 23:29:...|            0|\n",
      "|null|[7B 22 48 6F 73 7...|events|        0|    10|2021-12-04 23:30:...|            0|\n",
      "|null|[7B 22 48 6F 73 7...|events|        0|    11|2021-12-04 23:30:...|            0|\n",
      "|null|[7B 22 48 6F 73 7...|events|        0|    12|2021-12-04 23:30:...|            0|\n",
      "|null|[7B 22 48 6F 73 7...|events|        0|    13|2021-12-04 23:30:...|            0|\n",
      "|null|[7B 22 48 6F 73 7...|events|        0|    14|2021-12-04 23:30:...|            0|\n",
      "|null|[7B 22 48 6F 73 7...|events|        0|    15|2021-12-04 23:30:...|            0|\n",
      "|null|[7B 22 48 6F 73 7...|events|        0|    16|2021-12-04 23:30:...|            0|\n",
      "|null|[7B 22 48 6F 73 7...|events|        0|    17|2021-12-04 23:30:...|            0|\n",
      "|null|[7B 22 48 6F 73 7...|events|        0|    18|2021-12-04 23:30:...|            0|\n",
      "|null|[7B 22 48 6F 73 7...|events|        0|    19|2021-12-04 23:30:...|            0|\n",
      "+----+--------------------+------+---------+------+--------------------+-------------+\n",
      "only showing top 20 rows\n",
      "\n"
     ]
    }
   ],
   "source": [
    "raw_events.show()"
   ]
  },
  {
   "cell_type": "code",
   "execution_count": 13,
   "metadata": {
    "collapsed": true
   },
   "outputs": [],
   "source": [
    "purchase_events = raw_events \\\n",
    "        .select(raw_events.value.cast('string').alias('raw'),\n",
    "                raw_events.timestamp.cast('string')) \\\n",
    "        .filter(is_purchase('raw'))"
   ]
  },
  {
   "cell_type": "code",
   "execution_count": 14,
   "metadata": {},
   "outputs": [
    {
     "name": "stdout",
     "output_type": "stream",
     "text": [
      "+--------------------+--------------------+\n",
      "|                 raw|           timestamp|\n",
      "+--------------------+--------------------+\n",
      "|{\"Host\": \"user1.c...|2021-12-04 23:30:...|\n",
      "|{\"Host\": \"user1.c...|2021-12-04 23:30:...|\n",
      "|{\"Host\": \"user1.c...|2021-12-04 23:30:...|\n",
      "|{\"Host\": \"user1.c...|2021-12-04 23:30:...|\n",
      "|{\"Host\": \"user1.c...|2021-12-04 23:30:...|\n",
      "|{\"Host\": \"user1.c...|2021-12-04 23:30:...|\n",
      "|{\"Host\": \"user1.c...|2021-12-04 23:30:...|\n",
      "|{\"Host\": \"user1.c...|2021-12-04 23:30:...|\n",
      "|{\"Host\": \"user1.c...|2021-12-04 23:30:...|\n",
      "|{\"Host\": \"user1.c...|2021-12-04 23:30:...|\n",
      "|{\"Host\": \"user2.a...|2021-12-04 23:31:...|\n",
      "|{\"Host\": \"user2.a...|2021-12-04 23:31:...|\n",
      "|{\"Host\": \"user2.a...|2021-12-04 23:31:...|\n",
      "|{\"Host\": \"user2.a...|2021-12-04 23:31:...|\n",
      "|{\"Host\": \"user2.a...|2021-12-04 23:31:...|\n",
      "|{\"Host\": \"user2.a...|2021-12-04 23:31:...|\n",
      "|{\"Host\": \"user2.a...|2021-12-04 23:31:...|\n",
      "|{\"Host\": \"user2.a...|2021-12-04 23:31:...|\n",
      "|{\"Host\": \"user2.a...|2021-12-04 23:31:...|\n",
      "|{\"Host\": \"user2.a...|2021-12-04 23:31:...|\n",
      "+--------------------+--------------------+\n",
      "\n"
     ]
    }
   ],
   "source": [
    "purchase_events.show()"
   ]
  },
  {
   "cell_type": "code",
   "execution_count": 15,
   "metadata": {
    "collapsed": true
   },
   "outputs": [],
   "source": [
    "extracted_purchase_events = purchase_events \\\n",
    "        .rdd \\\n",
    "        .map(lambda r: Row(timestamp=r.timestamp, **json.loads(r.raw))) \\\n",
    "        .toDF()"
   ]
  },
  {
   "cell_type": "code",
   "execution_count": 16,
   "metadata": {},
   "outputs": [
    {
     "name": "stdout",
     "output_type": "stream",
     "text": [
      "root\n",
      " |-- Accept: string (nullable = true)\n",
      " |-- Host: string (nullable = true)\n",
      " |-- User-Agent: string (nullable = true)\n",
      " |-- event_type: string (nullable = true)\n",
      " |-- sword_size: string (nullable = true)\n",
      " |-- timestamp: string (nullable = true)\n",
      "\n"
     ]
    }
   ],
   "source": [
    "extracted_purchase_events.printSchema()"
   ]
  },
  {
   "cell_type": "code",
   "execution_count": 17,
   "metadata": {},
   "outputs": [
    {
     "name": "stdout",
     "output_type": "stream",
     "text": [
      "+------+-----------------+---------------+--------------+----------+--------------------+\n",
      "|Accept|             Host|     User-Agent|    event_type|sword_size|           timestamp|\n",
      "+------+-----------------+---------------+--------------+----------+--------------------+\n",
      "|   */*|user1.comcast.com|ApacheBench/2.3|purchase_sword|     large|2021-12-04 23:30:...|\n",
      "|   */*|user1.comcast.com|ApacheBench/2.3|purchase_sword|     large|2021-12-04 23:30:...|\n",
      "|   */*|user1.comcast.com|ApacheBench/2.3|purchase_sword|     large|2021-12-04 23:30:...|\n",
      "|   */*|user1.comcast.com|ApacheBench/2.3|purchase_sword|     large|2021-12-04 23:30:...|\n",
      "|   */*|user1.comcast.com|ApacheBench/2.3|purchase_sword|     large|2021-12-04 23:30:...|\n",
      "|   */*|user1.comcast.com|ApacheBench/2.3|purchase_sword|     large|2021-12-04 23:30:...|\n",
      "|   */*|user1.comcast.com|ApacheBench/2.3|purchase_sword|     large|2021-12-04 23:30:...|\n",
      "|   */*|user1.comcast.com|ApacheBench/2.3|purchase_sword|     large|2021-12-04 23:30:...|\n",
      "|   */*|user1.comcast.com|ApacheBench/2.3|purchase_sword|     large|2021-12-04 23:30:...|\n",
      "|   */*|user1.comcast.com|ApacheBench/2.3|purchase_sword|     large|2021-12-04 23:30:...|\n",
      "|   */*|    user2.att.com|ApacheBench/2.3|purchase_sword|     large|2021-12-04 23:31:...|\n",
      "|   */*|    user2.att.com|ApacheBench/2.3|purchase_sword|     large|2021-12-04 23:31:...|\n",
      "|   */*|    user2.att.com|ApacheBench/2.3|purchase_sword|     large|2021-12-04 23:31:...|\n",
      "|   */*|    user2.att.com|ApacheBench/2.3|purchase_sword|     large|2021-12-04 23:31:...|\n",
      "|   */*|    user2.att.com|ApacheBench/2.3|purchase_sword|     large|2021-12-04 23:31:...|\n",
      "|   */*|    user2.att.com|ApacheBench/2.3|purchase_sword|     large|2021-12-04 23:31:...|\n",
      "|   */*|    user2.att.com|ApacheBench/2.3|purchase_sword|     large|2021-12-04 23:31:...|\n",
      "|   */*|    user2.att.com|ApacheBench/2.3|purchase_sword|     large|2021-12-04 23:31:...|\n",
      "|   */*|    user2.att.com|ApacheBench/2.3|purchase_sword|     large|2021-12-04 23:31:...|\n",
      "|   */*|    user2.att.com|ApacheBench/2.3|purchase_sword|     large|2021-12-04 23:31:...|\n",
      "+------+-----------------+---------------+--------------+----------+--------------------+\n",
      "\n"
     ]
    }
   ],
   "source": [
    "extracted_purchase_events.show()"
   ]
  },
  {
   "cell_type": "code",
   "execution_count": 18,
   "metadata": {
    "collapsed": true
   },
   "outputs": [],
   "source": [
    "extracted_purchase_events \\\n",
    "        .write \\\n",
    "        .mode('overwrite') \\\n",
    "        .parquet('/tmp/purchases')"
   ]
  },
  {
   "cell_type": "code",
   "execution_count": 19,
   "metadata": {},
   "outputs": [
    {
     "name": "stdout",
     "output_type": "stream",
     "text": [
      "+------+-----------------+---------------+--------------+----------+--------------------+\n",
      "|Accept|             Host|     User-Agent|    event_type|sword_size|           timestamp|\n",
      "+------+-----------------+---------------+--------------+----------+--------------------+\n",
      "|   */*|user1.comcast.com|ApacheBench/2.3|purchase_sword|     large|2021-12-04 23:30:...|\n",
      "|   */*|user1.comcast.com|ApacheBench/2.3|purchase_sword|     large|2021-12-04 23:30:...|\n",
      "|   */*|user1.comcast.com|ApacheBench/2.3|purchase_sword|     large|2021-12-04 23:30:...|\n",
      "|   */*|user1.comcast.com|ApacheBench/2.3|purchase_sword|     large|2021-12-04 23:30:...|\n",
      "|   */*|user1.comcast.com|ApacheBench/2.3|purchase_sword|     large|2021-12-04 23:30:...|\n",
      "|   */*|user1.comcast.com|ApacheBench/2.3|purchase_sword|     large|2021-12-04 23:30:...|\n",
      "|   */*|user1.comcast.com|ApacheBench/2.3|purchase_sword|     large|2021-12-04 23:30:...|\n",
      "|   */*|user1.comcast.com|ApacheBench/2.3|purchase_sword|     large|2021-12-04 23:30:...|\n",
      "|   */*|user1.comcast.com|ApacheBench/2.3|purchase_sword|     large|2021-12-04 23:30:...|\n",
      "|   */*|user1.comcast.com|ApacheBench/2.3|purchase_sword|     large|2021-12-04 23:30:...|\n",
      "|   */*|    user2.att.com|ApacheBench/2.3|purchase_sword|     large|2021-12-04 23:31:...|\n",
      "|   */*|    user2.att.com|ApacheBench/2.3|purchase_sword|     large|2021-12-04 23:31:...|\n",
      "|   */*|    user2.att.com|ApacheBench/2.3|purchase_sword|     large|2021-12-04 23:31:...|\n",
      "|   */*|    user2.att.com|ApacheBench/2.3|purchase_sword|     large|2021-12-04 23:31:...|\n",
      "|   */*|    user2.att.com|ApacheBench/2.3|purchase_sword|     large|2021-12-04 23:31:...|\n",
      "|   */*|    user2.att.com|ApacheBench/2.3|purchase_sword|     large|2021-12-04 23:31:...|\n",
      "|   */*|    user2.att.com|ApacheBench/2.3|purchase_sword|     large|2021-12-04 23:31:...|\n",
      "|   */*|    user2.att.com|ApacheBench/2.3|purchase_sword|     large|2021-12-04 23:31:...|\n",
      "|   */*|    user2.att.com|ApacheBench/2.3|purchase_sword|     large|2021-12-04 23:31:...|\n",
      "|   */*|    user2.att.com|ApacheBench/2.3|purchase_sword|     large|2021-12-04 23:31:...|\n",
      "+------+-----------------+---------------+--------------+----------+--------------------+\n",
      "\n"
     ]
    }
   ],
   "source": [
    "purchases = spark.read.parquet('/tmp/purchases')\n",
    "purchases.show()"
   ]
  },
  {
   "cell_type": "code",
   "execution_count": 20,
   "metadata": {
    "collapsed": true
   },
   "outputs": [],
   "source": [
    "purchases.registerTempTable('purchases')"
   ]
  },
  {
   "cell_type": "code",
   "execution_count": 21,
   "metadata": {},
   "outputs": [
    {
     "name": "stdout",
     "output_type": "stream",
     "text": [
      "+------+-----------------+---------------+--------------+----------+--------------------+\n",
      "|Accept|             Host|     User-Agent|    event_type|sword_size|           timestamp|\n",
      "+------+-----------------+---------------+--------------+----------+--------------------+\n",
      "|   */*|user1.comcast.com|ApacheBench/2.3|purchase_sword|     large|2021-12-04 23:30:...|\n",
      "|   */*|user1.comcast.com|ApacheBench/2.3|purchase_sword|     large|2021-12-04 23:30:...|\n",
      "|   */*|user1.comcast.com|ApacheBench/2.3|purchase_sword|     large|2021-12-04 23:30:...|\n",
      "|   */*|user1.comcast.com|ApacheBench/2.3|purchase_sword|     large|2021-12-04 23:30:...|\n",
      "|   */*|user1.comcast.com|ApacheBench/2.3|purchase_sword|     large|2021-12-04 23:30:...|\n",
      "|   */*|user1.comcast.com|ApacheBench/2.3|purchase_sword|     large|2021-12-04 23:30:...|\n",
      "|   */*|user1.comcast.com|ApacheBench/2.3|purchase_sword|     large|2021-12-04 23:30:...|\n",
      "|   */*|user1.comcast.com|ApacheBench/2.3|purchase_sword|     large|2021-12-04 23:30:...|\n",
      "|   */*|user1.comcast.com|ApacheBench/2.3|purchase_sword|     large|2021-12-04 23:30:...|\n",
      "|   */*|user1.comcast.com|ApacheBench/2.3|purchase_sword|     large|2021-12-04 23:30:...|\n",
      "+------+-----------------+---------------+--------------+----------+--------------------+\n",
      "\n"
     ]
    }
   ],
   "source": [
    "purchases_by_example2 = spark.sql(\"select * from purchases where host='user1.comcast.com'\")\n",
    "purchases_by_example2.show()"
   ]
  },
  {
   "cell_type": "code",
   "execution_count": 22,
   "metadata": {},
   "outputs": [
    {
     "data": {
      "text/html": [
       "<div>\n",
       "<style>\n",
       "    .dataframe thead tr:only-child th {\n",
       "        text-align: right;\n",
       "    }\n",
       "\n",
       "    .dataframe thead th {\n",
       "        text-align: left;\n",
       "    }\n",
       "\n",
       "    .dataframe tbody tr th {\n",
       "        vertical-align: top;\n",
       "    }\n",
       "</style>\n",
       "<table border=\"1\" class=\"dataframe\">\n",
       "  <thead>\n",
       "    <tr style=\"text-align: right;\">\n",
       "      <th></th>\n",
       "      <th>Accept</th>\n",
       "      <th>Host</th>\n",
       "      <th>User-Agent</th>\n",
       "      <th>event_type</th>\n",
       "      <th>sword_size</th>\n",
       "      <th>timestamp</th>\n",
       "    </tr>\n",
       "  </thead>\n",
       "  <tbody>\n",
       "    <tr>\n",
       "      <th>0</th>\n",
       "      <td>*/*</td>\n",
       "      <td>user1.comcast.com</td>\n",
       "      <td>ApacheBench/2.3</td>\n",
       "      <td>purchase_sword</td>\n",
       "      <td>large</td>\n",
       "      <td>2021-12-04 23:30:56.765</td>\n",
       "    </tr>\n",
       "    <tr>\n",
       "      <th>1</th>\n",
       "      <td>*/*</td>\n",
       "      <td>user1.comcast.com</td>\n",
       "      <td>ApacheBench/2.3</td>\n",
       "      <td>purchase_sword</td>\n",
       "      <td>large</td>\n",
       "      <td>2021-12-04 23:30:56.775</td>\n",
       "    </tr>\n",
       "    <tr>\n",
       "      <th>2</th>\n",
       "      <td>*/*</td>\n",
       "      <td>user1.comcast.com</td>\n",
       "      <td>ApacheBench/2.3</td>\n",
       "      <td>purchase_sword</td>\n",
       "      <td>large</td>\n",
       "      <td>2021-12-04 23:30:56.783</td>\n",
       "    </tr>\n",
       "    <tr>\n",
       "      <th>3</th>\n",
       "      <td>*/*</td>\n",
       "      <td>user1.comcast.com</td>\n",
       "      <td>ApacheBench/2.3</td>\n",
       "      <td>purchase_sword</td>\n",
       "      <td>large</td>\n",
       "      <td>2021-12-04 23:30:56.789</td>\n",
       "    </tr>\n",
       "    <tr>\n",
       "      <th>4</th>\n",
       "      <td>*/*</td>\n",
       "      <td>user1.comcast.com</td>\n",
       "      <td>ApacheBench/2.3</td>\n",
       "      <td>purchase_sword</td>\n",
       "      <td>large</td>\n",
       "      <td>2021-12-04 23:30:56.795</td>\n",
       "    </tr>\n",
       "    <tr>\n",
       "      <th>5</th>\n",
       "      <td>*/*</td>\n",
       "      <td>user1.comcast.com</td>\n",
       "      <td>ApacheBench/2.3</td>\n",
       "      <td>purchase_sword</td>\n",
       "      <td>large</td>\n",
       "      <td>2021-12-04 23:30:56.8</td>\n",
       "    </tr>\n",
       "    <tr>\n",
       "      <th>6</th>\n",
       "      <td>*/*</td>\n",
       "      <td>user1.comcast.com</td>\n",
       "      <td>ApacheBench/2.3</td>\n",
       "      <td>purchase_sword</td>\n",
       "      <td>large</td>\n",
       "      <td>2021-12-04 23:30:56.805</td>\n",
       "    </tr>\n",
       "    <tr>\n",
       "      <th>7</th>\n",
       "      <td>*/*</td>\n",
       "      <td>user1.comcast.com</td>\n",
       "      <td>ApacheBench/2.3</td>\n",
       "      <td>purchase_sword</td>\n",
       "      <td>large</td>\n",
       "      <td>2021-12-04 23:30:56.811</td>\n",
       "    </tr>\n",
       "    <tr>\n",
       "      <th>8</th>\n",
       "      <td>*/*</td>\n",
       "      <td>user1.comcast.com</td>\n",
       "      <td>ApacheBench/2.3</td>\n",
       "      <td>purchase_sword</td>\n",
       "      <td>large</td>\n",
       "      <td>2021-12-04 23:30:56.817</td>\n",
       "    </tr>\n",
       "    <tr>\n",
       "      <th>9</th>\n",
       "      <td>*/*</td>\n",
       "      <td>user1.comcast.com</td>\n",
       "      <td>ApacheBench/2.3</td>\n",
       "      <td>purchase_sword</td>\n",
       "      <td>large</td>\n",
       "      <td>2021-12-04 23:30:56.823</td>\n",
       "    </tr>\n",
       "  </tbody>\n",
       "</table>\n",
       "</div>"
      ],
      "text/plain": [
       "  Accept               Host       User-Agent      event_type sword_size  \\\n",
       "0    */*  user1.comcast.com  ApacheBench/2.3  purchase_sword      large   \n",
       "1    */*  user1.comcast.com  ApacheBench/2.3  purchase_sword      large   \n",
       "2    */*  user1.comcast.com  ApacheBench/2.3  purchase_sword      large   \n",
       "3    */*  user1.comcast.com  ApacheBench/2.3  purchase_sword      large   \n",
       "4    */*  user1.comcast.com  ApacheBench/2.3  purchase_sword      large   \n",
       "5    */*  user1.comcast.com  ApacheBench/2.3  purchase_sword      large   \n",
       "6    */*  user1.comcast.com  ApacheBench/2.3  purchase_sword      large   \n",
       "7    */*  user1.comcast.com  ApacheBench/2.3  purchase_sword      large   \n",
       "8    */*  user1.comcast.com  ApacheBench/2.3  purchase_sword      large   \n",
       "9    */*  user1.comcast.com  ApacheBench/2.3  purchase_sword      large   \n",
       "\n",
       "                 timestamp  \n",
       "0  2021-12-04 23:30:56.765  \n",
       "1  2021-12-04 23:30:56.775  \n",
       "2  2021-12-04 23:30:56.783  \n",
       "3  2021-12-04 23:30:56.789  \n",
       "4  2021-12-04 23:30:56.795  \n",
       "5    2021-12-04 23:30:56.8  \n",
       "6  2021-12-04 23:30:56.805  \n",
       "7  2021-12-04 23:30:56.811  \n",
       "8  2021-12-04 23:30:56.817  \n",
       "9  2021-12-04 23:30:56.823  "
      ]
     },
     "execution_count": 22,
     "metadata": {},
     "output_type": "execute_result"
    }
   ],
   "source": [
    "newdf = purchases_by_example2.toPandas()\n",
    "newdf"
   ]
  },
  {
   "cell_type": "code",
   "execution_count": 23,
   "metadata": {},
   "outputs": [
    {
     "data": {
      "text/html": [
       "<div>\n",
       "<style>\n",
       "    .dataframe thead tr:only-child th {\n",
       "        text-align: right;\n",
       "    }\n",
       "\n",
       "    .dataframe thead th {\n",
       "        text-align: left;\n",
       "    }\n",
       "\n",
       "    .dataframe tbody tr th {\n",
       "        vertical-align: top;\n",
       "    }\n",
       "</style>\n",
       "<table border=\"1\" class=\"dataframe\">\n",
       "  <thead>\n",
       "    <tr style=\"text-align: right;\">\n",
       "      <th></th>\n",
       "      <th>Accept</th>\n",
       "      <th>Host</th>\n",
       "      <th>User-Agent</th>\n",
       "      <th>event_type</th>\n",
       "      <th>sword_size</th>\n",
       "      <th>timestamp</th>\n",
       "    </tr>\n",
       "  </thead>\n",
       "  <tbody>\n",
       "    <tr>\n",
       "      <th>count</th>\n",
       "      <td>10</td>\n",
       "      <td>10</td>\n",
       "      <td>10</td>\n",
       "      <td>10</td>\n",
       "      <td>10</td>\n",
       "      <td>10</td>\n",
       "    </tr>\n",
       "    <tr>\n",
       "      <th>unique</th>\n",
       "      <td>1</td>\n",
       "      <td>1</td>\n",
       "      <td>1</td>\n",
       "      <td>1</td>\n",
       "      <td>1</td>\n",
       "      <td>10</td>\n",
       "    </tr>\n",
       "    <tr>\n",
       "      <th>top</th>\n",
       "      <td>*/*</td>\n",
       "      <td>user1.comcast.com</td>\n",
       "      <td>ApacheBench/2.3</td>\n",
       "      <td>purchase_sword</td>\n",
       "      <td>large</td>\n",
       "      <td>2021-12-04 23:30:56.823</td>\n",
       "    </tr>\n",
       "    <tr>\n",
       "      <th>freq</th>\n",
       "      <td>10</td>\n",
       "      <td>10</td>\n",
       "      <td>10</td>\n",
       "      <td>10</td>\n",
       "      <td>10</td>\n",
       "      <td>1</td>\n",
       "    </tr>\n",
       "  </tbody>\n",
       "</table>\n",
       "</div>"
      ],
      "text/plain": [
       "       Accept               Host       User-Agent      event_type sword_size  \\\n",
       "count      10                 10               10              10         10   \n",
       "unique      1                  1                1               1          1   \n",
       "top       */*  user1.comcast.com  ApacheBench/2.3  purchase_sword      large   \n",
       "freq       10                 10               10              10         10   \n",
       "\n",
       "                      timestamp  \n",
       "count                        10  \n",
       "unique                       10  \n",
       "top     2021-12-04 23:30:56.823  \n",
       "freq                          1  "
      ]
     },
     "execution_count": 23,
     "metadata": {},
     "output_type": "execute_result"
    }
   ],
   "source": [
    "newdf.describe()"
   ]
  },
  {
   "cell_type": "markdown",
   "metadata": {
    "collapsed": true
   },
   "source": [
    "## Streaming Mode\n",
    "\n",
    "blah blah blah"
   ]
  },
  {
   "cell_type": "code",
   "execution_count": 24,
   "metadata": {
    "collapsed": true
   },
   "outputs": [],
   "source": [
    "def purchase_sword_event_schema():\n",
    "    \"\"\"\n",
    "    root\n",
    "    |-- Accept: string (nullable = true)\n",
    "    |-- Host: string (nullable = true)\n",
    "    |-- User-Agent: string (nullable = true)\n",
    "    |-- event_type: string (nullable = true)\n",
    "    |-- timestamp: string (nullable = true)\n",
    "    \"\"\"\n",
    "    return StructType([\n",
    "        StructField(\"Accept\", StringType(), True),\n",
    "        StructField(\"Host\", StringType(), True),\n",
    "        StructField(\"User-Agent\", StringType(), True),\n",
    "        StructField(\"event_type\", StringType(), True),\n",
    "        StructField(\"sword_size\", StringType(), True)\n",
    "    ])"
   ]
  },
  {
   "cell_type": "code",
   "execution_count": 25,
   "metadata": {
    "collapsed": true
   },
   "outputs": [],
   "source": [
    "@udf('boolean')\n",
    "def is_sword_purchase(event_as_json):\n",
    "    \"\"\"udf for filtering events\n",
    "    \"\"\"\n",
    "    event = json.loads(event_as_json)\n",
    "    if event['event_type'] == 'purchase_sword':\n",
    "        return True\n",
    "    return False"
   ]
  },
  {
   "cell_type": "code",
   "execution_count": 26,
   "metadata": {
    "collapsed": true
   },
   "outputs": [],
   "source": [
    "raw_events = spark \\\n",
    "        .readStream \\\n",
    "        .format(\"kafka\") \\\n",
    "        .option(\"kafka.bootstrap.servers\", \"kafka:29092\") \\\n",
    "        .option(\"subscribe\", \"events\") \\\n",
    "        .load()"
   ]
  },
  {
   "cell_type": "code",
   "execution_count": 27,
   "metadata": {
    "collapsed": true
   },
   "outputs": [],
   "source": [
    "sword_purchases = raw_events \\\n",
    "        .filter(is_sword_purchase(raw_events.value.cast('string'))) \\\n",
    "        .select(raw_events.value.cast('string').alias('raw_event'),\n",
    "                raw_events.timestamp.cast('string'),\n",
    "                from_json(raw_events.value.cast('string'),\n",
    "                          purchase_sword_event_schema()).alias('json')) \\\n",
    "        .select('raw_event', 'timestamp', 'json.*')"
   ]
  },
  {
   "cell_type": "code",
   "execution_count": 28,
   "metadata": {
    "collapsed": true
   },
   "outputs": [],
   "source": [
    "sink = sword_purchases \\\n",
    "        .writeStream \\\n",
    "        .format(\"parquet\") \\\n",
    "        .option(\"checkpointLocation\", \"/tmp/checkpoints_for_sword_purchases\") \\\n",
    "        .option(\"path\", \"/tmp/sword_purchases\") \\\n",
    "        .trigger(processingTime=\"10 seconds\") \\\n",
    "        .start()"
   ]
  },
  {
   "cell_type": "markdown",
   "metadata": {},
   "source": [
    "## Business Analytics Questions\n",
    "\n",
    "Use sql in presto\n",
    "how many events are there?\n",
    "how many events from user1/user2?"
   ]
  },
  {
   "cell_type": "code",
   "execution_count": 29,
   "metadata": {
    "collapsed": true
   },
   "outputs": [],
   "source": [
    "sink.stop()"
   ]
  },
  {
   "cell_type": "code",
   "execution_count": null,
   "metadata": {
    "collapsed": true
   },
   "outputs": [],
   "source": []
  }
 ],
 "metadata": {
  "kernelspec": {
   "display_name": "Python 3",
   "language": "python",
   "name": "python3"
  },
  "language_info": {
   "codemirror_mode": {
    "name": "ipython",
    "version": 3
   },
   "file_extension": ".py",
   "mimetype": "text/x-python",
   "name": "python",
   "nbconvert_exporter": "python",
   "pygments_lexer": "ipython3",
   "version": "3.6.1"
  }
 },
 "nbformat": 4,
 "nbformat_minor": 2
}
